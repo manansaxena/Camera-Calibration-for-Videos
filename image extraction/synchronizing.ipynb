{
 "metadata": {
  "language_info": {
   "codemirror_mode": {
    "name": "ipython",
    "version": 3
   },
   "file_extension": ".py",
   "mimetype": "text/x-python",
   "name": "python",
   "nbconvert_exporter": "python",
   "pygments_lexer": "ipython3",
   "version": "3.7.6"
  },
  "orig_nbformat": 2,
  "kernelspec": {
   "name": "python3",
   "display_name": "Python 3.7.6 64-bit ('vision': conda)"
  },
  "interpreter": {
   "hash": "188e22e68f32f748dab8e39a919633c96a6165b18004982b51e2da5c27b9065b"
  }
 },
 "nbformat": 4,
 "nbformat_minor": 2,
 "cells": [
  {
   "cell_type": "code",
   "execution_count": 7,
   "source": [
    "# import the necessary libraries and packages. \n",
    "\n",
    "import cv2\n",
    "import numpy as np\n",
    "import skvideo.io \n",
    "import matplotlib.pyplot as plt\n",
    "from mpl_toolkits.mplot3d import Axes3D\n",
    "import os\n",
    "from lxml import etree as xml"
   ],
   "outputs": [],
   "metadata": {}
  },
  {
   "cell_type": "code",
   "execution_count": 4,
   "source": [
    "# Specify the path of the first video\n",
    "vidOnePath = \"../../take 4/oneplus.mp4\"\n",
    "vidOne = skvideo.io.vread(vidOnePath)\n",
    "# This slicing step is only required if you want to extract a part of the video only for the next steps.\n",
    "# For easier processing pick the same number of frames for both the videos and try to synchronize the frames as much as possible\n",
    "vidOne = vidOne[90:400,:,:,::-1] \n",
    "print(vidOne.shape)"
   ],
   "outputs": [
    {
     "output_type": "stream",
     "name": "stdout",
     "text": [
      "(310, 1080, 1920, 3)\n"
     ]
    }
   ],
   "metadata": {}
  },
  {
   "cell_type": "code",
   "execution_count": 5,
   "source": [
    "# Specify the path of the second video\n",
    "vidTwoPath = \"../../take 4/samsung.mp4\"\n",
    "vidTwo = skvideo.io.vread(vidTwoPath)\n",
    "# This slicing step is only required if you want to extract a part of the video only for the next steps.\n",
    "# For easier processing pick the same number of frames for both the videos and  try to synchronize the frames as much as possible\n",
    "vidTwo = vidTwo[96:406,:,:,::-1]\n",
    "print(vidTwo.shape)"
   ],
   "outputs": [
    {
     "output_type": "stream",
     "name": "stdout",
     "text": [
      "(310, 1080, 1920, 3)\n"
     ]
    }
   ],
   "metadata": {}
  },
  {
   "cell_type": "code",
   "execution_count": 6,
   "source": [
    "# Selecting 20 random integers for the frames selection\n",
    "frameRange = 310 # from previous steps\n",
    "frameSelected = np.random.randint(0,frameRange,size=(20)).tolist()\n",
    "print(frameSelected)"
   ],
   "outputs": [
    {
     "output_type": "stream",
     "name": "stdout",
     "text": [
      "[194, 101, 149, 73, 150, 236, 137, 210, 199, 263, 89, 204, 188, 215, 18, 93, 282, 187, 213, 127]\n"
     ]
    }
   ],
   "metadata": {}
  },
  {
   "cell_type": "code",
   "execution_count": 7,
   "source": [
    "# Slicing the videos according to the frames selected\n",
    "vidOne = vidOne[frameSelected,...]\n",
    "vidTwo = vidTwo[frameSelected,...]"
   ],
   "outputs": [],
   "metadata": {}
  },
  {
   "cell_type": "code",
   "execution_count": 2,
   "source": [
    "# path to your image_data folder\n",
    "imgDataPath = \"../image_data/\""
   ],
   "outputs": [],
   "metadata": {}
  },
  {
   "cell_type": "code",
   "execution_count": 9,
   "source": [
    "# saving images for video one\n",
    "for i,frame in enumerate(vidOne):\n",
    "    cv2.imwrite(imgDataPath+'0-'+str(frameSelected[i])+'.jpeg',frame)"
   ],
   "outputs": [],
   "metadata": {}
  },
  {
   "cell_type": "code",
   "execution_count": 10,
   "source": [
    "# saving images for video two\n",
    "for i,frame in enumerate(vidTwo):\n",
    "    cv2.imwrite(imgDataPath+'1-'+str(frameSelected[i])+'.jpeg',frame)"
   ],
   "outputs": [],
   "metadata": {}
  },
  {
   "cell_type": "code",
   "execution_count": 5,
   "source": [
    "# creating a file string for imagelist xml file\n",
    "fileString = \"\"\n",
    "fileString += 'image_data/pattern.jpeg '\n",
    "for i in os.listdir(imgDataPath):\n",
    "    if(i.startswith('p')):\n",
    "        continue\n",
    "    temp = 'image_data/'+i+\" \"\n",
    "    fileString += temp\n",
    "print(fileString)"
   ],
   "outputs": [
    {
     "output_type": "stream",
     "name": "stdout",
     "text": [
      "image_data/pattern.jpeg image_data/0-101.jpeg image_data/0-127.jpeg image_data/0-137.jpeg image_data/0-149.jpeg image_data/0-150.jpeg image_data/0-18.jpeg image_data/0-187.jpeg image_data/0-188.jpeg image_data/0-194.jpeg image_data/0-199.jpeg image_data/0-204.jpeg image_data/0-210.jpeg image_data/0-213.jpeg image_data/0-215.jpeg image_data/0-236.jpeg image_data/0-263.jpeg image_data/0-282.jpeg image_data/0-73.jpeg image_data/0-89.jpeg image_data/0-93.jpeg image_data/1-101.jpeg image_data/1-127.jpeg image_data/1-137.jpeg image_data/1-149.jpeg image_data/1-150.jpeg image_data/1-18.jpeg image_data/1-187.jpeg image_data/1-188.jpeg image_data/1-194.jpeg image_data/1-199.jpeg image_data/1-204.jpeg image_data/1-210.jpeg image_data/1-213.jpeg image_data/1-215.jpeg image_data/1-236.jpeg image_data/1-263.jpeg image_data/1-282.jpeg image_data/1-73.jpeg image_data/1-89.jpeg image_data/1-93.jpeg \n"
     ]
    }
   ],
   "metadata": {}
  },
  {
   "cell_type": "code",
   "execution_count": 12,
   "source": [
    "os.mknod('../imagelist.xml')"
   ],
   "outputs": [],
   "metadata": {}
  },
  {
   "cell_type": "code",
   "execution_count": 8,
   "source": [
    "# create the xml file\n",
    "\n",
    "filename = \"../imagelist.xml\"\n",
    "\n",
    "root = xml.Element(\"opencv_storage\")\n",
    "images = xml.Element(\"images\")\n",
    "\n",
    "root.append(images)\n",
    "\n",
    "\n",
    "images.text = fileString\n",
    "\n",
    "\n",
    "tree = xml.ElementTree(root)\n",
    "\n",
    "with open(filename, \"wb\") as fh:\n",
    "    tree.write(fh,xml_declaration=True,pretty_print=True)\n"
   ],
   "outputs": [],
   "metadata": {}
  },
  {
   "cell_type": "code",
   "execution_count": null,
   "source": [],
   "outputs": [],
   "metadata": {}
  }
 ]
}